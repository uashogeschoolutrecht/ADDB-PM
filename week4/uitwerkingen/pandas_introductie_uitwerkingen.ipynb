{
 "cells": [
  {
   "cell_type": "markdown",
   "metadata": {},
   "source": [
    "# Introductie pandas - Uitwerkingen\n",
    "Hieronder staan mogelijke uitwerkingen voor de opdrachten uit het notebook pandas_introductie. Je zult de paden naar gebruikte data zelf moeten veranderen zodat het werkt in jouw folderstructuur. \n",
    "\n",
    "Ga eerst zelf met de opdrachten aan de slag en kijk pas hier als je wilt controleren of je het goed gedaan hebt of als je écht niet verder kunt. Ik raad je aan om altijd eerst te kijken of je online de informatie kunt vinden die je nodig hebt. Dit is hoe datascientisten ook werken. Als je iets wilt programmeren maar de juiste code niet weet, dan ga je kijken of je het online kunt vinden, bijvoorbeeld in de documentatie, op stackoverflow of in een blog. \n",
    "\n",
    "Wil je bijvoorbeeld het gemiddelde van een kolom vinden, google dan (bijvoorbeeld) op 'pandas calcalute mean column'. Zorg dat je altijd Python of pandas (of een ander package waar je mee werkt) in je zoekopdracht zet.\n",
    "\n",
    "Merk op dat er (bijna) altijd meerdere juiste oplossingen zijn. Als je iets anders gedaan hebt dan in dit notebook, maar wel het juiste antwoord hebt gevonden, is het ook goed! En vraag het na tijdens de les bij twijfel!"
   ]
  },
  {
   "cell_type": "markdown",
   "metadata": {},
   "source": [
    "### Opdrachten bij tutorial 1 - Uitwerkingen"
   ]
  },
  {
   "cell_type": "code",
   "execution_count": 2,
   "metadata": {},
   "outputs": [],
   "source": [
    "import pandas as pd"
   ]
  },
  {
   "cell_type": "code",
   "execution_count": 3,
   "metadata": {},
   "outputs": [],
   "source": [
    "cijfers_df = pd.DataFrame({\"Studentnummer\": [302341, 314345, 374232, 352352], \"Opdracht\": [5.5, 6.2, 7.1, 9.3], \n",
    "                          \"Tentamen\": [6.1, 4.2, 8.3, 7.8], \"Geslaagd\": [\"Ja\", \"Nee\", \"Ja\", \"Ja\"]})"
   ]
  },
  {
   "cell_type": "code",
   "execution_count": 4,
   "metadata": {},
   "outputs": [
    {
     "data": {
      "text/html": [
       "<div>\n",
       "<style scoped>\n",
       "    .dataframe tbody tr th:only-of-type {\n",
       "        vertical-align: middle;\n",
       "    }\n",
       "\n",
       "    .dataframe tbody tr th {\n",
       "        vertical-align: top;\n",
       "    }\n",
       "\n",
       "    .dataframe thead th {\n",
       "        text-align: right;\n",
       "    }\n",
       "</style>\n",
       "<table border=\"1\" class=\"dataframe\">\n",
       "  <thead>\n",
       "    <tr style=\"text-align: right;\">\n",
       "      <th></th>\n",
       "      <th>Studentnummer</th>\n",
       "      <th>Opdracht</th>\n",
       "      <th>Tentamen</th>\n",
       "      <th>Geslaagd</th>\n",
       "    </tr>\n",
       "  </thead>\n",
       "  <tbody>\n",
       "    <tr>\n",
       "      <th>0</th>\n",
       "      <td>302341</td>\n",
       "      <td>5.5</td>\n",
       "      <td>6.1</td>\n",
       "      <td>Ja</td>\n",
       "    </tr>\n",
       "    <tr>\n",
       "      <th>1</th>\n",
       "      <td>314345</td>\n",
       "      <td>6.2</td>\n",
       "      <td>4.2</td>\n",
       "      <td>Nee</td>\n",
       "    </tr>\n",
       "    <tr>\n",
       "      <th>2</th>\n",
       "      <td>374232</td>\n",
       "      <td>7.1</td>\n",
       "      <td>8.3</td>\n",
       "      <td>Ja</td>\n",
       "    </tr>\n",
       "    <tr>\n",
       "      <th>3</th>\n",
       "      <td>352352</td>\n",
       "      <td>9.3</td>\n",
       "      <td>7.8</td>\n",
       "      <td>Ja</td>\n",
       "    </tr>\n",
       "  </tbody>\n",
       "</table>\n",
       "</div>"
      ],
      "text/plain": [
       "   Studentnummer  Opdracht  Tentamen Geslaagd\n",
       "0         302341       5.5       6.1       Ja\n",
       "1         314345       6.2       4.2      Nee\n",
       "2         374232       7.1       8.3       Ja\n",
       "3         352352       9.3       7.8       Ja"
      ]
     },
     "execution_count": 4,
     "metadata": {},
     "output_type": "execute_result"
    }
   ],
   "source": [
    "cijfers_df"
   ]
  },
  {
   "cell_type": "markdown",
   "metadata": {},
   "source": [
    "### Opdrachten bij tutorial 2 - uitwerkingen"
   ]
  },
  {
   "cell_type": "code",
   "execution_count": null,
   "metadata": {},
   "outputs": [],
   "source": [
    "# Opdracht 1\n",
    "vgsales = pd.read_csv('../data/vgsales.csv')"
   ]
  },
  {
   "cell_type": "code",
   "execution_count": null,
   "metadata": {},
   "outputs": [],
   "source": [
    "#Opdracht 2\n",
    "vgsales.head(5)"
   ]
  },
  {
   "cell_type": "code",
   "execution_count": null,
   "metadata": {},
   "outputs": [],
   "source": [
    "#Opdracht 3\n",
    "vgsales.tail(10)"
   ]
  },
  {
   "cell_type": "code",
   "execution_count": null,
   "metadata": {},
   "outputs": [],
   "source": [
    "#Oprdracht 4\n",
    "vgsales.dtypes"
   ]
  },
  {
   "cell_type": "code",
   "execution_count": null,
   "metadata": {},
   "outputs": [],
   "source": [
    "#Opdracht 5\n",
    "vgsales.info()"
   ]
  },
  {
   "cell_type": "markdown",
   "metadata": {},
   "source": [
    "We zien dat Year, Genre en Publisher null-values bevatten."
   ]
  },
  {
   "cell_type": "code",
   "execution_count": null,
   "metadata": {},
   "outputs": [],
   "source": [
    "# Opdracht 6\n",
    "vgsales.to_csv('/path/to/home/vgsales.xlsx', sheet_name=\"vgsales\", index=False)"
   ]
  },
  {
   "cell_type": "markdown",
   "metadata": {},
   "source": [
    "### Opdrachten bij tutorial 3 - Uitwerkingen"
   ]
  },
  {
   "cell_type": "code",
   "execution_count": null,
   "metadata": {},
   "outputs": [],
   "source": [
    "#Opdracht 1\n",
    "vgsales_EU = vgsales[\"EU_Sales\"]\n",
    "vgsales_EU.head()"
   ]
  },
  {
   "cell_type": "code",
   "execution_count": null,
   "metadata": {},
   "outputs": [],
   "source": [
    "#Opdracht 2\n",
    "vgsales_Year_not_null = vgsales[vgsales[\"Year\"].notna()]\n",
    "vgsales_Year_not_null.head()"
   ]
  },
  {
   "cell_type": "code",
   "execution_count": null,
   "metadata": {},
   "outputs": [],
   "source": [
    "#Opdracht 3\n",
    "vgsales_more_10 = vgsales[vgsales[\"Global_Sales\"] > 10 ]\n",
    "vgsales_more_10.head()"
   ]
  },
  {
   "cell_type": "code",
   "execution_count": null,
   "metadata": {},
   "outputs": [],
   "source": [
    "#Opdracht 4\n",
    "vgsales_less_05 = vgsales[vgsales[\"Global_Sales\"] < 0.5]\n",
    "vgsales_less_05.shape"
   ]
  },
  {
   "cell_type": "markdown",
   "metadata": {},
   "source": [
    "Er zijn dus 12580 games waarvoor de Global Sales lager was dan een half miljoen"
   ]
  },
  {
   "cell_type": "code",
   "execution_count": null,
   "metadata": {},
   "outputs": [],
   "source": [
    "#Oprdracht 5\n",
    "vgsales_selection = vgsales.iloc[14:50, 1:6]\n",
    "vgsales_selection"
   ]
  },
  {
   "cell_type": "code",
   "execution_count": null,
   "metadata": {},
   "outputs": [],
   "source": [
    "#Opdracht 6\n",
    "vgsales_2006 = vgsales[vgsales[\"Year\"]==2006]\n",
    "vgsales_2006 = vgsales_2006.sort_values('EU_Sales', ascending=False)\n",
    "vgsales_2006.head()"
   ]
  },
  {
   "cell_type": "code",
   "execution_count": null,
   "metadata": {},
   "outputs": [],
   "source": [
    "#Opdracht 7\n",
    "vgsales_Nintendo_2008 = vgsales[(vgsales[\"Publisher\"]==\"Nintendo\") & (vgsales[\"Year\"]==2008) & (vgsales[\"Genre\"]==\"Racing\")]\n",
    "vgsales_Nintendo_2008"
   ]
  },
  {
   "cell_type": "markdown",
   "metadata": {},
   "source": [
    "Dat is er maar 1, alleen Mario Kart Wii"
   ]
  },
  {
   "cell_type": "markdown",
   "metadata": {},
   "source": [
    "### Opdrachten bij tutorial 4 - uitwerkingen"
   ]
  },
  {
   "cell_type": "code",
   "execution_count": null,
   "metadata": {},
   "outputs": [],
   "source": [
    "#Opdracht 1\n",
    "vgsales[\"Total_Sales\"] = vgsales[\"EU_Sales\"] + vgsales[\"NA_Sales\"] + vgsales[\"JP_Sales\"] + vgsales[\"Other_Sales\"]"
   ]
  },
  {
   "cell_type": "markdown",
   "metadata": {},
   "source": [
    "Om te controleren of Total_Sales gelijk is aan Global_Sales kunnen we een Serie van booleans maken, die per rij aangeven of ze gelijk zijn aan elkaar:"
   ]
  },
  {
   "cell_type": "code",
   "execution_count": null,
   "metadata": {},
   "outputs": [],
   "source": [
    "vgsales[\"Total_Sales\"] == vgsales[\"Global_Sales\"]"
   ]
  },
  {
   "cell_type": "markdown",
   "metadata": {},
   "source": [
    "We kunnen dit gebruiken om die rijen uit het dataframe te selecteren waar ze ook daadwerkelijk gelijk zijn:"
   ]
  },
  {
   "cell_type": "code",
   "execution_count": null,
   "metadata": {},
   "outputs": [],
   "source": [
    "vgsales[vgsales[\"Total_Sales\"] == vgsales[\"Global_Sales\"]]"
   ]
  },
  {
   "cell_type": "markdown",
   "metadata": {},
   "source": [
    "We zien dat ze in 9826 van de rijen gelijk zijn, en in de andere dus niet."
   ]
  },
  {
   "cell_type": "code",
   "execution_count": 2,
   "metadata": {},
   "outputs": [],
   "source": [
    "#Opdracht 2"
   ]
  },
  {
   "cell_type": "markdown",
   "metadata": {},
   "source": [
    "Om het aantal bins te bekijken kijken we eerst wat het maximum is van EU_Sales"
   ]
  },
  {
   "cell_type": "code",
   "execution_count": null,
   "metadata": {},
   "outputs": [],
   "source": [
    "vgsales['EU_Sales'].max()"
   ]
  },
  {
   "cell_type": "code",
   "execution_count": null,
   "metadata": {},
   "outputs": [],
   "source": [
    "bins = [0,5,10,15,20,25,30]\n",
    "vgsales['EU_Sales_bins'] = pd.cut(vgsales['EU_Sales'], bins = bins)"
   ]
  },
  {
   "cell_type": "markdown",
   "metadata": {},
   "source": [
    "## Opdrachten bij tutorial 5 - Uitwerkingen"
   ]
  },
  {
   "cell_type": "code",
   "execution_count": null,
   "metadata": {},
   "outputs": [],
   "source": [
    "#Opdracht 1 \n",
    "vgsales.describe()"
   ]
  },
  {
   "cell_type": "markdown",
   "metadata": {},
   "source": [
    "We zien dat het gemiddelde van EU_Sales 0.146652 miljoen is"
   ]
  },
  {
   "cell_type": "code",
   "execution_count": null,
   "metadata": {},
   "outputs": [],
   "source": [
    "#Opdracht 2\n",
    "vgsales[(vgsales[\"Publisher\"]==\"Electronic Arts\") & (vgsales[\"Year\"]==2010)].mean()"
   ]
  },
  {
   "cell_type": "markdown",
   "metadata": {},
   "source": [
    "We zien dat het gemiddelde 0.924773 miljoen is."
   ]
  },
  {
   "cell_type": "code",
   "execution_count": null,
   "metadata": {},
   "outputs": [],
   "source": [
    "#Opdracht 3\n",
    "vgsales[(vgsales[\"Year\"]==2016) & (vgsales[\"Publisher\"]==\"Nintendo\")][\"Global_Sales\"].sum()"
   ]
  },
  {
   "cell_type": "markdown",
   "metadata": {},
   "source": [
    "Dus voor 3,47 miljoen."
   ]
  },
  {
   "cell_type": "code",
   "execution_count": null,
   "metadata": {},
   "outputs": [],
   "source": [
    "#Opdracht 4\n",
    "vgsales.sort_values(by=\"Global_Sales\", ascending=False).head()"
   ]
  },
  {
   "cell_type": "markdown",
   "metadata": {},
   "source": [
    "Dat is Wii Sports."
   ]
  },
  {
   "cell_type": "code",
   "execution_count": null,
   "metadata": {},
   "outputs": [],
   "source": [
    "#Opdracht 5\n",
    "vgsales_1985 = vgsales[vgsales[\"Year\"]==1985]\n",
    "vgsales_1985_EUSales_not_zero = vgsales_1985[vgsales_1985[\"EU_Sales\"] > 0]"
   ]
  },
  {
   "cell_type": "code",
   "execution_count": null,
   "metadata": {},
   "outputs": [],
   "source": [
    "vgsales_1985_EUSales_not_zero.sort_values('EU_Sales')"
   ]
  },
  {
   "cell_type": "markdown",
   "metadata": {},
   "source": [
    "We zien een gedeelde laatste plek voor *Ghostbusters* en *Alter Ego*."
   ]
  },
  {
   "cell_type": "markdown",
   "metadata": {},
   "source": [
    "## Opdrachten bij tutorial 6 - Uitwerkingen"
   ]
  },
  {
   "cell_type": "markdown",
   "metadata": {},
   "source": [
    "### Opracht 1\n",
    "Maak een DataFrame waarin we van alle klanten first_name en last_name zien, en het amount van alle betalingen die ze gedaan hebben. Klanten die nooit een betaling hebben gedaan willen we niet zien."
   ]
  },
  {
   "cell_type": "code",
   "execution_count": null,
   "metadata": {},
   "outputs": [],
   "source": [
    "import pandas as pd\n",
    "payment = pd.read_csv('../data/dvdrental/payment.csv')\n",
    "customer = pd.read_csv('../data/dvdrental/customer.csv')\n",
    "\n",
    "customer_amount_df = customer.merge(payment, how=\"inner\", on=\"customer_id\")[[\"first_name\", \"last_name\", \"amount\"]]\n",
    "customer_amount_df.head(20)"
   ]
  },
  {
   "cell_type": "markdown",
   "metadata": {},
   "source": [
    "### Opdracht 2\n",
    "Voer een join uit om te zien of er films in de inventory zijn die nooit verhuurd zijn. Welke titels horen daarbij?"
   ]
  },
  {
   "cell_type": "code",
   "execution_count": null,
   "metadata": {},
   "outputs": [],
   "source": [
    "inventory = pd.read_csv('../data/dvdrental/inventory.csv')\n",
    "rental = pd.read_csv('../data/dvdrental/rental.csv')\n",
    "film = pd.read_csv('../data/dvdrental/film.csv', sep=\";\")\n",
    "\n",
    "inventory_film_join = inventory.merge(rental, on=\"inventory_id\", how = \"left\")\n",
    "nooit_gehuurd = inventory_film_join[inventory_film_join[\"rental_id\"].isna()]\n",
    "nooit_gehuurd"
   ]
  },
  {
   "cell_type": "code",
   "execution_count": null,
   "metadata": {},
   "outputs": [],
   "source": [
    "#Bekijk welke titel bij film_id==1 hoort\n",
    "film[film[\"film_id\"]==1][\"title\"]"
   ]
  },
  {
   "cell_type": "markdown",
   "metadata": {},
   "source": [
    "### Opdracht 3\n",
    "Maak een DataFrame als in opdracht 1, maar dan met first_name, last_name en title van alle films die een klant gehuurd heeft, op alfabetische volgorde van last_name. Zorg dat bij klanten met dezelfde achternaam first_name op alfabetische volgorde staat."
   ]
  },
  {
   "cell_type": "code",
   "execution_count": null,
   "metadata": {},
   "outputs": [],
   "source": [
    "\n",
    "joined_df = customer.merge(rental, how = \"inner\", on=\"customer_id\")\n",
    "joined_df = joined_df.merge(inventory, how = \"left\", on = \"inventory_id\")\n",
    "joined_df = joined_df.merge(film, how = \"left\", on = \"film_id\")\n",
    "\n",
    "name_film_df = joined_df[[\"first_name\", \"last_name\", \"title\"]].sort_values(by=[\"last_name\", \"first_name\"])\n",
    "name_film_df.head(100)"
   ]
  }
 ],
 "metadata": {
  "kernelspec": {
   "display_name": "Python 3",
   "language": "python",
   "name": "python3"
  },
  "language_info": {
   "codemirror_mode": {
    "name": "ipython",
    "version": 3
   },
   "file_extension": ".py",
   "mimetype": "text/x-python",
   "name": "python",
   "nbconvert_exporter": "python",
   "pygments_lexer": "ipython3",
   "version": "3.8.3"
  }
 },
 "nbformat": 4,
 "nbformat_minor": 4
}
