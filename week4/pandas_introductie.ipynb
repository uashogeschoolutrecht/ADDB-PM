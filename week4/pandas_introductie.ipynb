{
 "cells": [
  {
   "cell_type": "markdown",
   "metadata": {},
   "source": [
    "# Introductie pandas - voorbereiding voor week 4\n",
    "We gaan nu leren werken met pandas, een van de meest gebruikte Pyhton libraries voor data analyse en data science. Deze library voorziet ons van allerlei functionaliteit om te werken met spreadsheets. Dit is zo'n uitgebreide library dat we nooit alles kunnen behandelen, maar om een beeld te krijgen van wat mogelijk is in pandas volgen we de 'getting started' tutorials uit de pandas documentatie (https://pandas.pydata.org/docs/getting_started/intro_tutorials/index.html). \n",
    "Daarnaast leggen we je in dit notebook nog wat andere functionaliteit uit. \n",
    "Je zult steeds gevraagd worden een tutorial door te nemen en vervolgens een aantal oefenopdrachten te maken. De datasets die in de tutorials gebruikt worden zijn te downloaden op de pagina van de tutorials. Ik raad je aan om de voorbeelden uit de tutorials zelf uit te typen en te runnen.\n",
    "\n",
    "Voor de opdrachten bij tutorial 1 t/m 5 gebruiken we de dataset vgsales.csv, gevonden op kaggle (https://www.kaggle.com/gregorut/videogamesales). Voor opdracht 6 gebruiken we verschillende tabbelen uit de dvd-rental datasets. Ook deze zijn te downloaden via Canvas. Je moet ze wel zelf nog inlezen.\n"
   ]
  },
  {
   "cell_type": "markdown",
   "metadata": {},
   "source": [
    "## Tutorial 1\n",
    "Volg deze tutorial: https://pandas.pydata.org/docs/getting_started/intro_tutorials/01_table_oriented.html\n",
    "\n",
    "\n",
    "Creeër een DataFrame (met behulp van pd.DataFrame(...) ) waarbij het dataframe overeenkomt met onderstaande tabel\n",
    "\n",
    "Let op dat je pandas eerst moet importeren voordat je aan de slag kunt. "
   ]
  },
  {
   "cell_type": "markdown",
   "metadata": {},
   "source": [
    "| Studentnummer |Opdracht | Tentamen | Geslaagd |\n",
    "| ------------- |-------- | -------- | -------- |\n",
    "| 302341 | 5,5 | 6,1 | Ja |\n",
    "| 314345 | 6,2 | 4,2 | Nee |\n",
    "| 374232 | 7,1 | 8,3 | Ja |\n",
    "| 352352 | 9,3 | 7,8 | Ja |"
   ]
  },
  {
   "cell_type": "markdown",
   "metadata": {},
   "source": [
    "## Tutorial 2 - Lezen en schrijven van datasets\n",
    "Volg deze tutorial: https://pandas.pydata.org/docs/getting_started/intro_tutorials/02_read_write.html\n",
    "\n",
    "Naast het lezen en schrijven van csv en excel files biedt pandas de mogelijkheid om andere datatypes snel in te lezen, bijvoorbeeld json. Om makkelijk een overzicht te krijgen van mogelijke *read* functices, maak je een nieuwe cel en type je pd.read_<TAB>, waarbij <TAB> staat voor het indrukken van de tab-toets. Je krijgt dan een lijst met mogelijke opties te zien. Je kunt dit altijd gebruiken om te zien welke functies je aan kunt roepen, of als je niet meer precies weet hoe een functie heet. Of als je gewoon te lui bent om alles uit te typen:) Niks mis mee trouwens, je programmeert er alleen maar sneller door! \n",
    "\n",
    "Als je wilt weten welke parameters je mee kunt geven aan een functie, bijvoorbeel aan pd.read_csv(..) dan type je ?pd.read_csv in een nieuwe cel en run je deze. Je kunt deze informatie ook allemaal in de documentatie vinden: https://pandas.pydata.org/pandas-docs/stable/user_guide/io.html\n",
    "    \n",
    "De dataset die in deze tutorial gebruikt wordt kun je vinden in de data folder, deze data heeft de volgende kolommen:\n",
    "* Rank - Ranking of overall sales\n",
    "* Name - The games name\n",
    "* Platform - Platform of the games release (i.e. PC,PS4, etc.)\n",
    "* Year - Year of the game's release\n",
    "* Genre - Genre of the game\n",
    "* Publisher - Publisher of the game\n",
    "* NA_Sales - Sales in North America (in millions)\n",
    "* EU_Sales - Sales in Europe (in millions)\n",
    "* JP_Sales - Sales in Japan (in millions)\n",
    "* Other_Sales - Sales in the rest of the world (in millions)\n",
    "* Global_Sales - Total worldwide sales."
   ]
  },
  {
   "cell_type": "markdown",
   "metadata": {},
   "source": [
    "### Opdrachten bij tutorial 2\n",
    "\n",
    "Voer de volgende stappen uit:\n",
    "1. Lees de dataset in.\n",
    "2. Bekijk de eerste 5 rijen.\n",
    "3. Bekijk de laatste 10 rijden.\n",
    "4. Bekijk de datatypes van de kolommen.\n",
    "5. Welke kolommen bevatten nulls? (Een null-waarde betekent dat dat datapunt mist)\n",
    "6. Schrijf de dataset weg als csv bestand naar je eigen home folder."
   ]
  },
  {
   "cell_type": "markdown",
   "metadata": {},
   "source": [
    "## Tutorial 3 - Data selectie\n",
    "Volg deze tutorial: https://pandas.pydata.org/docs/getting_started/intro_tutorials/03_subset_data.html"
   ]
  },
  {
   "cell_type": "markdown",
   "metadata": {},
   "source": [
    "Een andere handige functie die je moet kennen is sort_values() (zie https://pandas.pydata.org/pandas-docs/stable/reference/api/pandas.DataFrame.sort_values.html). Hiermee kun je je dataset sorteren op een gegeven kolom. Bijvoorbeeld:"
   ]
  },
  {
   "cell_type": "code",
   "execution_count": 1,
   "metadata": {},
   "outputs": [],
   "source": [
    "import pandas as pd\n",
    "vgsales = pd.read_csv('../data/vgsales.csv')"
   ]
  },
  {
   "cell_type": "code",
   "execution_count": 2,
   "metadata": {},
   "outputs": [
    {
     "name": "stdout",
     "output_type": "stream",
     "text": [
      "<class 'pandas.core.frame.DataFrame'>\n",
      "RangeIndex: 16598 entries, 0 to 16597\n",
      "Data columns (total 11 columns):\n",
      " #   Column        Non-Null Count  Dtype  \n",
      "---  ------        --------------  -----  \n",
      " 0   Rank          16598 non-null  int64  \n",
      " 1   Name          16598 non-null  object \n",
      " 2   Platform      16598 non-null  object \n",
      " 3   Year          16327 non-null  float64\n",
      " 4   Genre         16598 non-null  object \n",
      " 5   Publisher     16540 non-null  object \n",
      " 6   NA_Sales      16598 non-null  float64\n",
      " 7   EU_Sales      16598 non-null  float64\n",
      " 8   JP_Sales      16598 non-null  float64\n",
      " 9   Other_Sales   16598 non-null  float64\n",
      " 10  Global_Sales  16598 non-null  float64\n",
      "dtypes: float64(6), int64(1), object(4)\n",
      "memory usage: 1.4+ MB\n"
     ]
    }
   ],
   "source": [
    "vgsales.info()"
   ]
  },
  {
   "cell_type": "markdown",
   "metadata": {},
   "source": [
    "We willen de dataset nu sorteren op global sales, van hoogste sales naar laagste."
   ]
  },
  {
   "cell_type": "code",
   "execution_count": null,
   "metadata": {},
   "outputs": [],
   "source": [
    "vgsales.sort_values('Global_Sales')"
   ]
  },
  {
   "cell_type": "markdown",
   "metadata": {},
   "source": [
    "Merk op dat de dataset nu van laag naar hoog gesorteerd is, om van hoog naar laag te sorteren moeten we de parameter *ascending = False* meegeven:"
   ]
  },
  {
   "cell_type": "code",
   "execution_count": null,
   "metadata": {},
   "outputs": [],
   "source": [
    "vgsales_sorted = vgsales.sort_values('Global_Sales', ascending = False)"
   ]
  },
  {
   "cell_type": "markdown",
   "metadata": {},
   "source": [
    "Kijken of het gelukt is:"
   ]
  },
  {
   "cell_type": "code",
   "execution_count": null,
   "metadata": {},
   "outputs": [],
   "source": [
    "vgsales_sorted.head()"
   ]
  },
  {
   "cell_type": "markdown",
   "metadata": {},
   "source": [
    "### Opdrachten bij tutorial 3\n",
    "1. Selecteer enkel de kolom \"EU_Sales\" uit de dataset vgsales.\n",
    "2. Creeër een nieuw DataFrame met alle rijen waarbij Year niet null is. Maak hierbij gebruik van functie notna()\n",
    "3. Creeër een nieuw DataFrame met alle games waarvan de global sales groter was dan 10 miljoen.\n",
    "4. Bij hoeveel games was de global sales kleiner dan 0.5 miljoen?\n",
    "5. Maak een nieuw DataFrame met de 2e t/m de 6e kolom en de 15e t/m de 30e rij. (Dit heeft in dit voorbeeld geen toepassing, maar is enkel om te oefenen met selectie).\n",
    "6. Creeër een nieuw dataframe met alleen data van 2006, sorteer deze data op EU_Sales, van hoog naar laag.\n",
    "7. Hoeveel spellen van Nintendo zijn er in 2008 uitgekomen in het Genre Racing?"
   ]
  },
  {
   "cell_type": "markdown",
   "metadata": {},
   "source": [
    "## Tutorial 4 - Nieuwe kolommen toevoegen\n",
    "Volg deze tutorial: https://pandas.pydata.org/docs/getting_started/intro_tutorials/05_add_columns.html"
   ]
  },
  {
   "cell_type": "markdown",
   "metadata": {},
   "source": [
    "Je kunt de kolommen van een dataframe ook nieuwe namen geven door een lijst met namen te maken en die toe te wijzen aan de columns van het dataframe, bijvoorbeeld zo:\n",
    "\n",
    "vgsales.columns = ['kolom1', 'kolom2', .... , 'kolom11']\n",
    "\n",
    "Dit zou nergens op slaan, de namen van de kolommen worden alleen maar onduidelijker, maar het is vaak wel degelijk handig om dit te kunnen."
   ]
  },
  {
   "cell_type": "markdown",
   "metadata": {},
   "source": [
    "Bij het doen van analyses op je data is het vaak handig om een kolom toe te voegen waarin een numerieke waarde opgedeeld is in intervallen (of *bins*). Denk bijvoorbeeld aan een leeftijdkolom, waarbij je wilt kijken naar de leeftijd in een range van 10 jaar, dus je wilt niet de exacte leeftijd hebben, maar weten of iemand tussen de 0 en 10 is, of tussen de 10 en 20, enz.\n",
    "\n",
    "Daarvoor kunnen we gebruik maken van de functie *cut*. Zie: https://pandas.pydata.org/docs/reference/api/pandas.cut.html"
   ]
  },
  {
   "cell_type": "markdown",
   "metadata": {},
   "source": [
    "We geven weer een voorbeeld, stel we willen een kolom toevoegen waarbij we de kolom Global_Sales in intervallen verdelen. We willen dus niet de exacte sales weten, maar we willen weten in welk interval hij ligt. We weten als dat het tussen 0 en 82.74 ligt, dus een logische opdeling is die in tientallen. We definieren nu eerst de bins, dat doen we door een lijst te maken met de grenzen van de intervallen."
   ]
  },
  {
   "cell_type": "code",
   "execution_count": null,
   "metadata": {},
   "outputs": [],
   "source": [
    "bins = [0,10,20,30,40,50,60,70,80,90]"
   ]
  },
  {
   "cell_type": "markdown",
   "metadata": {},
   "source": [
    "vervolgens gebruiken we pd.cut om de bins van de kolom Global_Sales te bepalen. En de uitkomst daarvan wijzen we toe aan een nieuwe kolom in het dataframe:"
   ]
  },
  {
   "cell_type": "code",
   "execution_count": null,
   "metadata": {},
   "outputs": [],
   "source": [
    "vgsales['Global_Sales_bins'] = pd.cut(vgsales['Global_Sales'], bins)"
   ]
  },
  {
   "cell_type": "markdown",
   "metadata": {},
   "source": [
    "Kijken of het geluks is:"
   ]
  },
  {
   "cell_type": "code",
   "execution_count": null,
   "metadata": {},
   "outputs": [],
   "source": [
    "vgsales.head()"
   ]
  },
  {
   "cell_type": "markdown",
   "metadata": {},
   "source": [
    "### Opdrachten bij tutorial 4\n",
    "1. Creeër een nieuwe kolom bij de vgsales dataset genaamd Total_Sales. De waarde in deze kolom is de som van NA_Sales, EU_Sales, JP_Sales, Other_Sales. Kun je controleren of de waarden in deze kolom gelijk zijn aan Global_Sales?\n",
    "2. Voeg een kolom *EU_Sales_bins* die aangeeft in welk interval van lengte 5 de EU_Sales per rij ligt."
   ]
  },
  {
   "cell_type": "markdown",
   "metadata": {},
   "source": [
    "## Tutorial 5 - statistiek"
   ]
  },
  {
   "cell_type": "markdown",
   "metadata": {},
   "source": [
    "Volg het eerste gedeelte van deze tutorial, de stof vanaf het kopje **Aggregating statistics grouped by category** behandelen we in een later college.\n",
    "https://pandas.pydata.org/docs/getting_started/intro_tutorials/06_calculate_statistics.html\n"
   ]
  },
  {
   "cell_type": "markdown",
   "metadata": {},
   "source": [
    "Wat je verder nog moet kennen is de method value_counts(): https://pandas.pydata.org/docs/reference/api/pandas.Series.value_counts.html\n",
    "\n",
    "Deze kun je aanroepen op een van je kolommen en die telt dan hoevaak iedere waarde in die kolom voorkomt. Dit kunnen we bijvoorbeeld gebruiken om per jaar te zien hoeveel spellen er in dat gegeven jaar uitgekomen zijn. We voegen nog .reset_index() om van de output weer een dataframe te maken. De details hiervan hoef je niet te kennen."
   ]
  },
  {
   "cell_type": "code",
   "execution_count": null,
   "metadata": {},
   "outputs": [],
   "source": [
    "vgsales['Year'].value_counts()"
   ]
  },
  {
   "cell_type": "markdown",
   "metadata": {},
   "source": [
    "### Opdrachten bij tutorial 5\n",
    "1. Wat is het gemiddelde van de kolom EU_Sales?\n",
    "2. Hoeveel bracht een spel van \"Electronic Arts\" gemiddeld op in 2010?\n",
    "3. Voor hoeveel miljoen verkocht Nintendo in het jaar 2006 wereldwijd?\n",
    "4. Wat is het bestverkochte spel (in termen van meest opgeleverde miljoenen) ooit? (In deze dataset)\n",
    "5. Welk spel uit 1985 leverde het minste op in Europa, maar meer dan niks? \n"
   ]
  },
  {
   "cell_type": "markdown",
   "metadata": {},
   "source": [
    "## Tutorial 6 - Datasets combineren\n",
    "We hebben nu steeds data gebruikt uit maar een enkele dataset, maar vaak wil je verschillende datasets combineren. Het is dan handig als je weet wat de relatie tussen verschillende datasets is, daarvoor kun je gebruik maken van Entity Relationship Diagrams. Wat dat zijn wordt uitgelegd in de volgende YouTube filmpjes: \n",
    " - https://www.youtube.com/watch?v=QpdhBUYk7Kk\n",
    " - https://www.youtube.com/watch?v=-CuY5ADwn24\n",
    " \n",
    "In pandas kun je datasets combineren (joinen) met de merge method. Hoe je die kunt gebruiken en wat voor type joins je uit kunt voeren lees je in dit blog:\n",
    "https://www.analyticsvidhya.com/blog/2020/02/joins-in-pandas-master-the-different-types-of-joins-in-python/\n",
    "\n",
    "Naast het joinen van datasets kun je datasets ook row-wise of column-wise aan elkaar plakken met de concat method. Hoe dat werkt lees je in deze tutorial:\n",
    "https://pandas.pydata.org/docs/getting_started/intro_tutorials/08_combine_dataframes.html\n",
    "\n",
    "Maak onderstaande opdrachten om hiermee te oefenen. We maken daarvoor gebruik van de dvdrental datasets. Die data is te downloaden via canvas. Ook kun je daar het bijbehorende ERD vinden.\n",
    "\n",
    "### Opdrachten bij tutorial 6\n",
    "1. Maak een DataFrame waarin we van alle klanten first_name en last_name zien, en het amount van alle betalingen die ze gedaan hebben. Klanten die nooit een betaling hebben gedaan willen we niet zien.\n",
    "2. Voer een join uit om te zien of er films in de inventory zijn die nooit verhuurd zijn. Welke titels horen daarbij?\n",
    "3. Maak een DataFrame als in opdracht 1, maar dan met first_name, last_name en title van alle films die een klant gehuurd heeft, op alfabetische volgorde van last_name. Zorg dat bij klanten met dezelfde achternaam first_name op alfabetische volgorde staat."
   ]
  }
 ],
 "metadata": {
  "kernelspec": {
   "display_name": "Python 3 (ipykernel)",
   "language": "python",
   "name": "python3"
  },
  "language_info": {
   "codemirror_mode": {
    "name": "ipython",
    "version": 3
   },
   "file_extension": ".py",
   "mimetype": "text/x-python",
   "name": "python",
   "nbconvert_exporter": "python",
   "pygments_lexer": "ipython3",
   "version": "3.8.2"
  }
 },
 "nbformat": 4,
 "nbformat_minor": 4
}
