{
 "cells": [
  {
   "cell_type": "markdown",
   "metadata": {},
   "source": [
    "# Exploring airbnb-data - les week 4"
   ]
  },
  {
   "cell_type": "markdown",
   "metadata": {},
   "source": [
    "In dit notebook gaan we airbnb data van appartementen in amsterdam exploreren. Je past hierin alles wat je in het voorbereidende notebook geleerd hebt toe. De data die we gebruiken halen we van http://insideairbnb.com/get-the-data.html en we lezen de dataset rechtstreeks in via de url. We hoeven deze data dus niet eerst te downloaden en op te slaan. Dat kun je uiteraard wel doen als je wilt.\n",
    "\n",
    "Je kunt dit notebook inleven voor feedback, hiervan zijn dus geen uitwerkingen beschikbaar."
   ]
  },
  {
   "cell_type": "code",
   "execution_count": null,
   "metadata": {},
   "outputs": [],
   "source": [
    "import pandas as pd"
   ]
  },
  {
   "cell_type": "code",
   "execution_count": null,
   "metadata": {},
   "outputs": [],
   "source": [
    "airbnb = pd.read_csv(\"http://data.insideairbnb.com/the-netherlands/north-holland/amsterdam/2021-09-07/visualisations/listings.csv\")"
   ]
  },
  {
   "cell_type": "code",
   "execution_count": null,
   "metadata": {},
   "outputs": [],
   "source": [
    "airbnb.head()"
   ]
  },
  {
   "cell_type": "markdown",
   "metadata": {},
   "source": [
    "## Opdracht - Data exploratie"
   ]
  },
  {
   "cell_type": "markdown",
   "metadata": {},
   "source": [
    "Als je \"in het echt\" met data aan de slag gaat, dan zul je als eerste stap de data exploreren, misschien nog zonder duidelijk doel. Ga eerst een kijken welke kolommen je hebt en wat voor type data daarin zit. Kijk of er *null* waarder zijn. Denk vast na over welke interessante informatie uit de dataset te halen is. Kun je al een boeiende visualisatie maken of wat interessante statistieken uit de dataset halen?\n",
    "\n",
    "Voel je vrij om zoveel mogelijk te experimenteren als je wilt."
   ]
  },
  {
   "cell_type": "code",
   "execution_count": null,
   "metadata": {},
   "outputs": [],
   "source": []
  },
  {
   "cell_type": "markdown",
   "metadata": {},
   "source": [
    "## Opdracht - Verwerking"
   ]
  },
  {
   "cell_type": "markdown",
   "metadata": {},
   "source": [
    "Je wilt een weekendje weg wilt met 1 vriend of vriendin. Je gaat wat activiteiten ondernemen in Amsterdam Noord, dus je wilt een apartement in Noord-West of Noord-Oost. Het apartement moet minstens 2 bedden hebben en je wilt niet in een hostel-achtige setting, dus geen Shared room. \n",
    "\n",
    "Voordat je kunt gaan uitzoeken welke apartementen geschikt zijn, moet je eerst wat extra informatie hebben, want in onze huidige dataset staat niet hoeveel bedden een apartement heeft."
   ]
  },
  {
   "cell_type": "markdown",
   "metadata": {},
   "source": [
    "Er is op http://insideairbnb.com/ ook uitgebreidere data per apartement beschikbaar. Deze data is zo uitgebreid dat het eigenlijk minder praktisch is om mee te werken, maar hier is wel het aantal slaapkamers en het aantal bedden per apartement beschikbaar. Run onderstaande cel om de uitgebreide data in te lezen:"
   ]
  },
  {
   "cell_type": "code",
   "execution_count": null,
   "metadata": {},
   "outputs": [],
   "source": [
    "airbnb_uitgebreid = pd.read_csv(\"http://data.insideairbnb.com/the-netherlands/north-holland/amsterdam/2021-09-07/data/listings.csv.gz\")"
   ]
  },
  {
   "cell_type": "markdown",
   "metadata": {},
   "source": [
    "Maak een nieuw dataframe van airbnb_uitgebreid met enkel de kolommen 'id', 'bedrooms' en 'beds'. Join deze data aan je oorspronkelijke airbnb dataframe."
   ]
  },
  {
   "cell_type": "code",
   "execution_count": null,
   "metadata": {},
   "outputs": [],
   "source": []
  },
  {
   "cell_type": "markdown",
   "metadata": {},
   "source": [
    "Dit nieuwe dataframe ga je filteren zodat alleen de apartementen overblijven die aan jullie wensen voldoen. Er moeten dus minstens 2 bedden zijn, je moet het voor een weekend kunnen boeken, het moet in Noord-West of Noord-Oost liggen en het moet geen *Shared room* zijn. Verwijder ook alle rijen waarbij de prijs niet realistisch lijkt. Je wilt dit datafame delen met je vriend, maar die begrijpt geen engels, geef daarom de kolommen nederlandse namen. Sorteer de dataset op prijs, waarbij het goedkoopste apartement bovenaan komt te staan."
   ]
  },
  {
   "cell_type": "code",
   "execution_count": null,
   "metadata": {},
   "outputs": [],
   "source": []
  },
  {
   "cell_type": "markdown",
   "metadata": {},
   "source": [
    "Om een goede keuze te maken uit de goedkoopste 3 apartementen, ga je reviews van die apartementen bekijken. Deze reviews zijn ook beschikbaar via http://insideairbnb.com/ en deze kun je inlezen door onderstaande cel te runnen. \n",
    "\n",
    "Maak eerst een nieuw dataframe waarin je alleen de goedkoopste 4 apartementen laat staan."
   ]
  },
  {
   "cell_type": "code",
   "execution_count": null,
   "metadata": {},
   "outputs": [],
   "source": [
    "reviews = pd.read_csv(\"http://data.insideairbnb.com/the-netherlands/north-holland/amsterdam/2021-09-07/data/reviews.csv.gz\")"
   ]
  },
  {
   "cell_type": "markdown",
   "metadata": {},
   "source": [
    "Nu ga je de reviewdata koppelen aan jouw gefilterde dataframe. Om te zorgen dat je dataframe niet te groot wordt, maak je eerst een nieuw dataframe met daarin enkel de drie goedkoopste apartementen die aan jouw wensen voldoen."
   ]
  },
  {
   "cell_type": "code",
   "execution_count": null,
   "metadata": {},
   "outputs": [],
   "source": []
  },
  {
   "cell_type": "markdown",
   "metadata": {},
   "source": [
    "We zijn alleen geinteresseerd in recente reviews (uit 2021) dus we filteren het revies-dataframe daarop. Je hebt nog niet geleerd hoe je het jaar uit een datumkolom kunt halen, dus dat is hieronder al gedaan."
   ]
  },
  {
   "cell_type": "code",
   "execution_count": null,
   "metadata": {},
   "outputs": [],
   "source": [
    "reviews_2021 = reviews[reviews['date'].str.contains('2021')]"
   ]
  },
  {
   "cell_type": "markdown",
   "metadata": {},
   "source": [
    "Merge je dataset met de 3 goedkoopste apartementen met de dataset met reviews uit 2021. Bekijk de reviews en beslis in welk apartement jullie willen verblijven."
   ]
  }
 ],
 "metadata": {
  "kernelspec": {
   "display_name": "Python [conda env:PM]",
   "language": "python",
   "name": "conda-env-PM-py"
  },
  "language_info": {
   "codemirror_mode": {
    "name": "ipython",
    "version": 3
   },
   "file_extension": ".py",
   "mimetype": "text/x-python",
   "name": "python",
   "nbconvert_exporter": "python",
   "pygments_lexer": "ipython3",
   "version": "3.8.11"
  }
 },
 "nbformat": 4,
 "nbformat_minor": 4
}
