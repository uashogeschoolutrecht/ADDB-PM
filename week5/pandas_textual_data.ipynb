{
 "cells": [
  {
   "cell_type": "markdown",
   "id": "75123695",
   "metadata": {},
   "source": [
    "# Dealing with textual data in pandas - voorbereiding les 5"
   ]
  },
  {
   "cell_type": "markdown",
   "id": "9df4f814",
   "metadata": {},
   "source": [
    "Naast dit notebook dien je ook een deel van H6 uit Automate the boring stuff door te nemen: https://automatetheboringstuff.com/2e/chapter6/ Lees tot en met het kopje: Removing Whitespace with the strip(), rstrip(), and lstrip() Methods\n",
    "\n",
    "Volg daarna deze tutorial:\n",
    "\n",
    "https://pandas.pydata.org/pandas-docs/stable/getting_started/intro_tutorials/10_text_data.html\n",
    "\n",
    "En maak onderstaande opdrachten:"
   ]
  },
  {
   "cell_type": "markdown",
   "id": "956a0b2e",
   "metadata": {},
   "source": [
    "## Opdrachten"
   ]
  },
  {
   "cell_type": "markdown",
   "id": "9bf66d11",
   "metadata": {},
   "source": [
    "1. Lees het bestand hu_tweets.csv in.\n",
    "2. Filter het dataframe zodat je alleen rijen overhoudt waarin iemand gementioned wordt in de tekst (via '@gebruiker')\n",
    "3. Voeg een kolom toe met daarin het aantal #'s dat gebruikt is de tekst van de tweet.\n",
    "4. Voeg een kolom toe met daarin het aantal tekens in de tekst van de tweet."
   ]
  }
 ],
 "metadata": {
  "kernelspec": {
   "display_name": "Python 3 (ipykernel)",
   "language": "python",
   "name": "python3"
  },
  "language_info": {
   "codemirror_mode": {
    "name": "ipython",
    "version": 3
   },
   "file_extension": ".py",
   "mimetype": "text/x-python",
   "name": "python",
   "nbconvert_exporter": "python",
   "pygments_lexer": "ipython3",
   "version": "3.8.2"
  }
 },
 "nbformat": 4,
 "nbformat_minor": 5
}
