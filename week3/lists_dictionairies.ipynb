{
 "cells": [
  {
   "cell_type": "markdown",
   "metadata": {},
   "source": [
    "# Lists en Dictionairies - les week 3"
   ]
  },
  {
   "cell_type": "markdown",
   "metadata": {},
   "source": [
    "Dit is het eerste notebook waarin je echt zelf aan de slag gaat met het schrijven van code. Er staan alvast wat cellen klaar waarin je de code kunt typen, maar je kunt altijd cellen toevoegen door naar command-mode te gaan (***esc***) en dan een cel boven (***a***) of onder (***b***) de huidige cel toe te voegen. Ook kun je altijd op het plusje in het menu klikken om een cel toe te voegen.\n",
    "\n",
    "In dit notebook wordt verwezen naar opdrachten uit het boek Automate the Boring Stuff, 2e Editie van Al Sweigart."
   ]
  },
  {
   "cell_type": "markdown",
   "metadata": {},
   "source": [
    "## Opracht 1"
   ]
  },
  {
   "cell_type": "markdown",
   "metadata": {},
   "source": [
    "Gegeven is de volgende lijst:"
   ]
  },
  {
   "cell_type": "code",
   "execution_count": null,
   "metadata": {},
   "outputs": [],
   "source": [
    "getallen = [34,56,23,12,46,21,75,23,64,21,47,43,23,64,63,46]"
   ]
  },
  {
   "cell_type": "markdown",
   "metadata": {},
   "source": [
    "1. schrijf python code om de eerste 3 getallen uit de lijst weer te geven.\n",
    "2. schrijf python code om het vijfde getal uit de lijst weer te geven.\n",
    "3. schrijf python code om de laatste 4 getallen uit de lijst weer te geven.\n",
    "3. schrijf python code om de de som van de getallen te bepalen.\n",
    "4. schrijf python code om te bepalen hoeveel van de getallen uit de lijst groter zijn dan 30\n",
    "6. schrijf python code om het grootste getal uit de lijst te bepalen."
   ]
  },
  {
   "cell_type": "markdown",
   "metadata": {},
   "source": [
    "## Opdracht 2"
   ]
  },
  {
   "cell_type": "markdown",
   "metadata": {},
   "source": [
    "Gegeven is het volgende dictionairy met het aantal studenten per verdieping:"
   ]
  },
  {
   "cell_type": "code",
   "execution_count": null,
   "metadata": {},
   "outputs": [],
   "source": [
    "verdiepingen = {'people':24, 'data':3, 'strategy':8, 'finance':10}\n"
   ]
  },
  {
   "cell_type": "markdown",
   "metadata": {},
   "source": [
    "1. schrijf python code het aantal personen in de verdieping strategy weer te geven.\n",
    "2. schrijf python code om alle namen van de verdiepingen te printen.\n",
    "3. schrijf python code om het totale aantal studenten te bepalen.\n",
    "3. schrijf python code om het aantal studenten in de verdieping finance met 1 op te hogen.\n",
    "4. schrijf python code om de verdieping marketing toe te voegen met 21 studenten.\n",
    "6. schrijf python code om de verdieping met de meeste studenten te bepalen."
   ]
  },
  {
   "cell_type": "markdown",
   "metadata": {},
   "source": [
    "## Opdracht 3\n",
    "Schrijf in onderstaande cel een functie met een paramater *lijst_met_dubbelen* van type *list* die vervolgens dezelfde list zonder dubbelen teruggeeft. Maak hierbij gebruik van flow-control zoals je in week 2 geleerd hebt."
   ]
  },
  {
   "cell_type": "code",
   "execution_count": null,
   "metadata": {},
   "outputs": [],
   "source": [
    "def ontdubbelList(lijst_met_dubbelen):\n",
    "    ###Schrijf hier je code\n",
    "    return lijst_zonder_dubbelen"
   ]
  },
  {
   "cell_type": "markdown",
   "metadata": {},
   "source": [
    "Je kunt onderstaande cel runnen om te testen of je functie werkt. "
   ]
  },
  {
   "cell_type": "code",
   "execution_count": null,
   "metadata": {},
   "outputs": [],
   "source": [
    "input_lijst = [1,2,2,1,1,3,4,3,3,5]\n",
    "\n",
    "output_lijst = ontdubbelList(input_lijst)\n",
    "print(output_lijst)"
   ]
  },
  {
   "cell_type": "markdown",
   "metadata": {},
   "source": [
    "## Opdracht 4\n",
    "Schrijf een functie die een list meekrijgt en een dictionairy teruggeeft, met als *keys* de unieke elementen in de lijst en als *values* het aantal keer dat het element voorkomt."
   ]
  },
  {
   "cell_type": "markdown",
   "metadata": {},
   "source": [
    "Als de lijst bijvoorbeeld bestaat uit ['h','h','a','h','t','t','r','t','t','a'], dan moet de functie het volgende teruggeven: {'h': 3, 'a': 2, 't': 4, 'r': 1}"
   ]
  },
  {
   "cell_type": "code",
   "execution_count": null,
   "metadata": {},
   "outputs": [],
   "source": [
    "input_lijst = ['h','h','a','h','t','t','r','t','t','a']"
   ]
  },
  {
   "cell_type": "code",
   "execution_count": null,
   "metadata": {},
   "outputs": [],
   "source": [
    "#Schrijf in deze cel je functie\n"
   ]
  },
  {
   "cell_type": "code",
   "execution_count": null,
   "metadata": {},
   "outputs": [],
   "source": [
    "#Schrijf in deze cel code om je functie te testen\n"
   ]
  },
  {
   "cell_type": "markdown",
   "metadata": {},
   "source": [
    "## Opdrachten uit Automate the Boring Stuff:"
   ]
  },
  {
   "cell_type": "markdown",
   "metadata": {},
   "source": [
    "Werk hieronder de opdracht *Comma Code* uit *ATBS - Chapter 4* uit:"
   ]
  },
  {
   "cell_type": "code",
   "execution_count": null,
   "metadata": {},
   "outputs": [],
   "source": [
    "spam = ['apples', 'bananas', 'tofu', 'cats']"
   ]
  },
  {
   "cell_type": "code",
   "execution_count": null,
   "metadata": {},
   "outputs": [],
   "source": [
    "#Schrijf je functie in deze cel\n"
   ]
  },
  {
   "cell_type": "code",
   "execution_count": null,
   "metadata": {},
   "outputs": [],
   "source": [
    "#Schrijf hier code om je functie te testen\n"
   ]
  },
  {
   "cell_type": "markdown",
   "metadata": {},
   "source": [
    "Werk hieronder de opdracht *Fantasy Game Inventory* van *ATBS - Chapter 5* uit."
   ]
  },
  {
   "cell_type": "code",
   "execution_count": null,
   "metadata": {},
   "outputs": [],
   "source": [
    "stuff = {'rope': 1, 'torch': 6, 'gold coin': 42, 'dagger': 1, 'arrow': 12}"
   ]
  },
  {
   "cell_type": "code",
   "execution_count": null,
   "metadata": {},
   "outputs": [],
   "source": [
    "def displayInventory(inventory):\n",
    "    #vul hier je code in"
   ]
  },
  {
   "cell_type": "code",
   "execution_count": null,
   "metadata": {},
   "outputs": [],
   "source": [
    "displayInventory(stuff)"
   ]
  },
  {
   "cell_type": "markdown",
   "metadata": {},
   "source": [
    "Werk hieronder de *addToInventory* functie uit:"
   ]
  },
  {
   "cell_type": "code",
   "execution_count": null,
   "metadata": {},
   "outputs": [],
   "source": [
    "dragonLoot = ['gold coin', 'dagger', 'gold coin', 'gold coin', 'ruby']"
   ]
  },
  {
   "cell_type": "code",
   "execution_count": null,
   "metadata": {},
   "outputs": [],
   "source": [
    "def addToInventory(inventory, addedItems):\n",
    "    # vul hier je code in"
   ]
  },
  {
   "cell_type": "code",
   "execution_count": null,
   "metadata": {},
   "outputs": [],
   "source": [
    "inv = {'gold coin': 42, 'rope': 1}\n",
    "dragonLoot = ['gold coin', 'dagger', 'gold coin', 'gold coin', 'ruby']\n",
    "inv = addToInventory(inv, dragonLoot)\n",
    "displayInventory(inv)"
   ]
  },
  {
   "cell_type": "code",
   "execution_count": null,
   "metadata": {},
   "outputs": [],
   "source": []
  }
 ],
 "metadata": {
  "kernelspec": {
   "display_name": "Python 3 (ipykernel)",
   "language": "python",
   "name": "python3"
  },
  "language_info": {
   "codemirror_mode": {
    "name": "ipython",
    "version": 3
   },
   "file_extension": ".py",
   "mimetype": "text/x-python",
   "name": "python",
   "nbconvert_exporter": "python",
   "pygments_lexer": "ipython3",
   "version": "3.8.2"
  }
 },
 "nbformat": 4,
 "nbformat_minor": 4
}
