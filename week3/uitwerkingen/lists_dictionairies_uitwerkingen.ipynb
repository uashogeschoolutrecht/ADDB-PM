{
 "cells": [
  {
   "cell_type": "markdown",
   "metadata": {},
   "source": [
    "# Lists en Dictionairies - uitwerkingen"
   ]
  },
  {
   "cell_type": "markdown",
   "metadata": {},
   "source": [
    "Er zijn veel verschillende manieren om de opdrachten te doen, het belangrijkste is dat je functie werkt. Hieronder staat een mogelijke oplossing, die is lang niet altijd de kortste."
   ]
  },
  {
   "cell_type": "markdown",
   "metadata": {},
   "source": [
    "## Opdracht 2"
   ]
  },
  {
   "cell_type": "code",
   "execution_count": null,
   "metadata": {},
   "outputs": [],
   "source": [
    "getallen = [34,56,23,12,46,21,75,23,64,21,47,43,23,64,63,46]"
   ]
  },
  {
   "cell_type": "code",
   "execution_count": null,
   "metadata": {},
   "outputs": [],
   "source": [
    "#1\n",
    "getallen[:3]"
   ]
  },
  {
   "cell_type": "code",
   "execution_count": null,
   "metadata": {},
   "outputs": [],
   "source": [
    "#2\n",
    "getallen[4]"
   ]
  },
  {
   "cell_type": "code",
   "execution_count": null,
   "metadata": {},
   "outputs": [],
   "source": [
    "#3\n",
    "getallen[-4:]"
   ]
  },
  {
   "cell_type": "code",
   "execution_count": null,
   "metadata": {},
   "outputs": [],
   "source": [
    "#4\n",
    "som = 0\n",
    "for getal in getallen:\n",
    "    som = som + getal\n",
    "print(som)"
   ]
  },
  {
   "cell_type": "code",
   "execution_count": null,
   "metadata": {},
   "outputs": [],
   "source": [
    "#4 alternatief\n",
    "sum(getallen)"
   ]
  },
  {
   "cell_type": "code",
   "execution_count": null,
   "metadata": {},
   "outputs": [],
   "source": [
    "#5\n",
    "teller = 0\n",
    "for getal in getallen:\n",
    "    if getal > 30:\n",
    "        teller +=1\n",
    "print('het aantal getallen groter dan 30 is:', teller)"
   ]
  },
  {
   "cell_type": "code",
   "execution_count": null,
   "metadata": {},
   "outputs": [],
   "source": [
    "#6\n",
    "grootste = 0\n",
    "for getal in getallen:\n",
    "    if getal > grootste:\n",
    "        grootste = getal\n",
    "print('het grootste getal is:', grootste)"
   ]
  },
  {
   "cell_type": "code",
   "execution_count": null,
   "metadata": {},
   "outputs": [],
   "source": [
    "#6 alternatief\n",
    "max(getallen)"
   ]
  },
  {
   "cell_type": "markdown",
   "metadata": {},
   "source": [
    "## Opdracht 2"
   ]
  },
  {
   "cell_type": "code",
   "execution_count": null,
   "metadata": {},
   "outputs": [],
   "source": [
    "verdiepingen = {'people':24, 'data':3, 'strategy':8, 'finance':10}"
   ]
  },
  {
   "cell_type": "code",
   "execution_count": null,
   "metadata": {},
   "outputs": [],
   "source": [
    "#1\n",
    "verdiepingen['strategy']"
   ]
  },
  {
   "cell_type": "code",
   "execution_count": null,
   "metadata": {},
   "outputs": [],
   "source": [
    "#2\n",
    "verdiepingen.keys()"
   ]
  },
  {
   "cell_type": "code",
   "execution_count": null,
   "metadata": {},
   "outputs": [],
   "source": [
    "#2 alternatief\n",
    "for verdieping in verdiepingen.keys():\n",
    "    print(verdieping)"
   ]
  },
  {
   "cell_type": "code",
   "execution_count": null,
   "metadata": {},
   "outputs": [],
   "source": [
    "#3\n",
    "totaal = 0\n",
    "for aantal in verdiepingen.values():\n",
    "    totaal += aantal\n",
    "print(totaal)"
   ]
  },
  {
   "cell_type": "code",
   "execution_count": null,
   "metadata": {},
   "outputs": [],
   "source": [
    "#3 alternatief\n",
    "sum(verdiepingen.values())"
   ]
  },
  {
   "cell_type": "code",
   "execution_count": null,
   "metadata": {},
   "outputs": [],
   "source": [
    "#4\n",
    "verdiepingen['finance'] +=1"
   ]
  },
  {
   "cell_type": "code",
   "execution_count": null,
   "metadata": {},
   "outputs": [],
   "source": [
    "#5\n",
    "verdiepingen['marketing'] = 21"
   ]
  },
  {
   "cell_type": "code",
   "execution_count": null,
   "metadata": {},
   "outputs": [],
   "source": [
    "#6\n",
    "grootste = 'finance' #(kies willekeurig een verdieping)\n",
    "for verdieping in verdiepingen.keys():\n",
    "    if verdiepingen[verdieping] > verdiepingen[grootste]:\n",
    "        grootste = verdieping\n",
    "print(grootste)"
   ]
  },
  {
   "cell_type": "markdown",
   "metadata": {},
   "source": [
    "## Opdracht 3\n",
    "Schrijf in onderstaande cel een functie met een paramater *lijst_met_dubbelen* van type *list* die vervolgens dezelfde list zonder dubbelen teruggeeft."
   ]
  },
  {
   "cell_type": "code",
   "execution_count": null,
   "metadata": {},
   "outputs": [],
   "source": [
    "def ontdubbelList(lijst_met_dubbelen):\n",
    "    lijst_zonder_dubbelen = []\n",
    "    for element in lijst_met_dubbelen:\n",
    "        if element not in lijst_zonder_dubbelen:\n",
    "            lijst_zonder_dubbelen.append(element)\n",
    "    return lijst_zonder_dubbelen"
   ]
  },
  {
   "cell_type": "code",
   "execution_count": null,
   "metadata": {},
   "outputs": [],
   "source": [
    "input_lijst = [1,2,2,1,1,3,4,3,3,5]\n",
    "\n",
    "output_lijst = ontdubbelList(input_lijst)\n",
    "print(output_lijst)"
   ]
  },
  {
   "cell_type": "markdown",
   "metadata": {},
   "source": [
    "## Opdracht 4\n",
    "Schrijf een functie die een list meekrijgt en een dictionairy teruggeeft, met als *keys* de unieke elementen in de lijst en als *values* het aantal keer dat het element voorkomt."
   ]
  },
  {
   "cell_type": "code",
   "execution_count": null,
   "metadata": {},
   "outputs": [],
   "source": [
    "#Schrijf in deze cel je functie\n",
    "def list_to_dict(lijst):\n",
    "    mijn_dict = {}\n",
    "    for element in lijst:\n",
    "        if element in mijn_dict.keys():\n",
    "            mijn_dict[element] = mijn_dict[element] + 1\n",
    "        else:\n",
    "            mijn_dict[element] = 1\n",
    "    return mijn_dict"
   ]
  },
  {
   "cell_type": "code",
   "execution_count": null,
   "metadata": {},
   "outputs": [],
   "source": [
    "#Schrijf in deze cel code om je functie te testen\n",
    "lijst = ['hoi', 'hallo','dag','dag','hey','hey','hey','hoi','doei!']\n",
    "list_to_dict(lijst)"
   ]
  },
  {
   "cell_type": "markdown",
   "metadata": {},
   "source": [
    "## Opdrachten uit Automate the Boring Stuff "
   ]
  },
  {
   "cell_type": "markdown",
   "metadata": {},
   "source": [
    "Deze mag je inleveren voor feedback, de uitwerkingen zijn dus niet gegeven."
   ]
  }
 ],
 "metadata": {
  "kernelspec": {
   "display_name": "Python 3 (ipykernel)",
   "language": "python",
   "name": "python3"
  },
  "language_info": {
   "codemirror_mode": {
    "name": "ipython",
    "version": 3
   },
   "file_extension": ".py",
   "mimetype": "text/x-python",
   "name": "python",
   "nbconvert_exporter": "python",
   "pygments_lexer": "ipython3",
   "version": "3.8.2"
  }
 },
 "nbformat": 4,
 "nbformat_minor": 4
}
